{
  "nbformat": 4,
  "nbformat_minor": 0,
  "metadata": {
    "colab": {
      "name": "ASSIGNMENT-2.ipynb",
      "provenance": [],
      "collapsed_sections": []
    },
    "kernelspec": {
      "name": "python3",
      "display_name": "Python 3"
    }
  },
  "cells": [
    {
      "cell_type": "code",
      "metadata": {
        "colab": {
          "base_uri": "https://localhost:8080/"
        },
        "id": "E0950ukF4ZKS",
        "outputId": "7fee920d-40d4-4f9f-e0a2-2466bca5bc43"
      },
      "source": [
        "name = input(\"Please enter your name\")\n",
        "marks = int(input(\"please enter your marks\"))\n",
        "if marks>90 :\n",
        "  print(name,\"has got A grade!\")\n",
        "elif marks>80:\n",
        "  print(name,\"has got B grade!\")\n",
        "elif marks>70:\n",
        "  print(name,\"has got C grade!\")\n",
        "elif marks>60:\n",
        "  print(name,\"has got D grade!\")\n",
        "else:\n",
        "    print(name,\"has failed!\")"
      ],
      "execution_count": null,
      "outputs": [
        {
          "output_type": "stream",
          "text": [
            "Please enter your nameANAGHA\n",
            "please enter your marks85\n",
            "ANAGHA has got B grade!\n"
          ],
          "name": "stdout"
        }
      ]
    },
    {
      "cell_type": "code",
      "metadata": {
        "colab": {
          "base_uri": "https://localhost:8080/"
        },
        "id": "axASQKhBBAkN",
        "outputId": "adda743a-89bb-474c-b402-9eb01c300afa"
      },
      "source": [
        "NAME= \"Anagha\"\n",
        "Password= \"9876\"\n",
        "one_time_password= \"09123\"\n",
        "username= input(\"enterusername:\")\n",
        "password= input(\"enterpassword:\")\n",
        "if username==name:\n",
        "  if password==password:\n",
        "    print(\"your otp is 09123\")\n",
        "  else:\n",
        "      print(\"the password you entered is wrong\")\n",
        "else:\n",
        "        print(\"invalid username\")\n",
        "\n",
        "        otp= input(\"enter the otp:\")\n",
        "if otp==one_time_password :\n",
        "          print(\"WELCOME\",name)\n",
        "else:\n",
        "            print(\"otp is wrong\")"
      ],
      "execution_count": null,
      "outputs": [
        {
          "output_type": "stream",
          "text": [
            "enterusername:Anagha\n",
            "enterpassword:9876\n",
            "invalid username\n",
            "enter the otp:09123\n",
            "WELCOME ANAGHA\n"
          ],
          "name": "stdout"
        }
      ]
    },
    {
      "cell_type": "code",
      "metadata": {
        "id": "1ooaoFdXEIOC"
      },
      "source": [
        "studentmarks ={\n",
        "    \"ram\" : 67,\n",
        "    \"ramesh\" :90,\n",
        "    \"priya\" :44,\n",
        "    \"pooja\" : 99,\n",
        "    \"krishna\" :77\n",
        "}"
      ],
      "execution_count": null,
      "outputs": []
    },
    {
      "cell_type": "code",
      "metadata": {
        "colab": {
          "base_uri": "https://localhost:8080/"
        },
        "id": "PC3eUZ8GEvTa",
        "outputId": "952e2fce-bc06-4ff8-c8bf-18c64111d059"
      },
      "source": [
        "studentmarks.keys()"
      ],
      "execution_count": null,
      "outputs": [
        {
          "output_type": "execute_result",
          "data": {
            "text/plain": [
              "dict_keys(['ram', 'ramesh', 'priya', 'pooja', 'krishna'])"
            ]
          },
          "metadata": {
            "tags": []
          },
          "execution_count": 10
        }
      ]
    },
    {
      "cell_type": "code",
      "metadata": {
        "colab": {
          "base_uri": "https://localhost:8080/"
        },
        "id": "P4Py4mExFpa7",
        "outputId": "e474fadb-4d78-40e0-b255-274d05fc4d64"
      },
      "source": [
        "for i in studentmarks.keys() :\n",
        "  if studentmarks[i]<50:\n",
        "    print(i,\"has failed\")"
      ],
      "execution_count": null,
      "outputs": [
        {
          "output_type": "stream",
          "text": [
            "priya has failed\n"
          ],
          "name": "stdout"
        }
      ]
    }
  ]
}