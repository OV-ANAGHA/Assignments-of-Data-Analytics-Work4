{
  "nbformat": 4,
  "nbformat_minor": 0,
  "metadata": {
    "colab": {
      "name": "ASSIGNMENT-1.ipynb",
      "provenance": [],
      "collapsed_sections": []
    },
    "kernelspec": {
      "name": "python3",
      "display_name": "Python 3"
    }
  },
  "cells": [
    {
      "cell_type": "code",
      "metadata": {
        "colab": {
          "base_uri": "https://localhost:8080/"
        },
        "id": "B5sTEEanpBvY",
        "outputId": "1b43edcc-ede8-4bb0-ff2c-8aeba0701a3f"
      },
      "source": [
        "print(\"hello sunshine\")"
      ],
      "execution_count": null,
      "outputs": [
        {
          "output_type": "stream",
          "text": [
            "hello sunshine\n"
          ],
          "name": "stdout"
        }
      ]
    },
    {
      "cell_type": "code",
      "metadata": {
        "colab": {
          "base_uri": "https://localhost:8080/"
        },
        "id": "wBtZ1xDXpdVK",
        "outputId": "316fb7fa-036b-44ab-99e2-91811dc32fe6"
      },
      "source": [
        "9*6"
      ],
      "execution_count": null,
      "outputs": [
        {
          "output_type": "execute_result",
          "data": {
            "text/plain": [
              "54"
            ]
          },
          "metadata": {
            "tags": []
          },
          "execution_count": 2
        }
      ]
    },
    {
      "cell_type": "code",
      "metadata": {
        "colab": {
          "base_uri": "https://localhost:8080/"
        },
        "id": "o1Xucmkfpvwb",
        "outputId": "8a9fda7a-5174-46fc-f6ca-c37ff8a8a993"
      },
      "source": [
        "9/3"
      ],
      "execution_count": null,
      "outputs": [
        {
          "output_type": "execute_result",
          "data": {
            "text/plain": [
              "3.0"
            ]
          },
          "metadata": {
            "tags": []
          },
          "execution_count": 4
        }
      ]
    },
    {
      "cell_type": "code",
      "metadata": {
        "colab": {
          "base_uri": "https://localhost:8080/"
        },
        "id": "MnHz3sUVp2fy",
        "outputId": "3a905228-bc03-4c3d-fde1-5a496829ab08"
      },
      "source": [
        "9-6"
      ],
      "execution_count": null,
      "outputs": [
        {
          "output_type": "execute_result",
          "data": {
            "text/plain": [
              "3"
            ]
          },
          "metadata": {
            "tags": []
          },
          "execution_count": 5
        }
      ]
    },
    {
      "cell_type": "code",
      "metadata": {
        "colab": {
          "base_uri": "https://localhost:8080/"
        },
        "id": "HnNGMbVKphIC",
        "outputId": "4cd0444f-1172-4e36-8622-62e724009d8c"
      },
      "source": [
        "9+6"
      ],
      "execution_count": null,
      "outputs": [
        {
          "output_type": "execute_result",
          "data": {
            "text/plain": [
              "15"
            ]
          },
          "metadata": {
            "tags": []
          },
          "execution_count": 3
        }
      ]
    },
    {
      "cell_type": "code",
      "metadata": {
        "colab": {
          "base_uri": "https://localhost:8080/"
        },
        "id": "j4RDUtiTqAo5",
        "outputId": "04cbaf7d-99ee-4382-ec21-2e5eecff45c5"
      },
      "source": [
        "print(int(input(\"enter a number\"))*7)"
      ],
      "execution_count": null,
      "outputs": [
        {
          "output_type": "stream",
          "text": [
            "enter a number4\n",
            "28\n"
          ],
          "name": "stdout"
        }
      ]
    },
    {
      "cell_type": "code",
      "metadata": {
        "colab": {
          "base_uri": "https://localhost:8080/"
        },
        "id": "YXj5KreeqPaT",
        "outputId": "4254941d-d51d-41ca-bce2-3b0a422c8cf5"
      },
      "source": [
        "print(int(input(\"enter a number\"))-7)"
      ],
      "execution_count": null,
      "outputs": [
        {
          "output_type": "stream",
          "text": [
            "enter a number14\n",
            "7\n"
          ],
          "name": "stdout"
        }
      ]
    },
    {
      "cell_type": "code",
      "metadata": {
        "colab": {
          "base_uri": "https://localhost:8080/"
        },
        "id": "yWZbLaRhqsQz",
        "outputId": "e26ab8b2-5956-4a29-d066-7879aece1aaa"
      },
      "source": [
        "print(int(input(\"enter a number\"))+7)"
      ],
      "execution_count": null,
      "outputs": [
        {
          "output_type": "stream",
          "text": [
            "enter a number4\n",
            "11\n"
          ],
          "name": "stdout"
        }
      ]
    },
    {
      "cell_type": "code",
      "metadata": {
        "colab": {
          "base_uri": "https://localhost:8080/"
        },
        "id": "6jFgREPaq98A",
        "outputId": "6b7e08d6-65f3-4c09-e4ae-65c0a8c40fc1"
      },
      "source": [
        "print(int(input(\"enter a number\"))/7)"
      ],
      "execution_count": null,
      "outputs": [
        {
          "output_type": "stream",
          "text": [
            "enter a number14\n",
            "2.0\n"
          ],
          "name": "stdout"
        }
      ]
    },
    {
      "cell_type": "code",
      "metadata": {
        "colab": {
          "base_uri": "https://localhost:8080/"
        },
        "id": "Uocpqtz-rbeb",
        "outputId": "d3a65310-26ad-4776-c425-40f8efad9ae7"
      },
      "source": [
        "firstnumber=int(input(\"enter a number\"))\n",
        "#secondnumber=int(input(\"enter a number\")\n",
        "\n",
        "print(firstnumber*6)\n",
        "print(firstnumber/6)"
      ],
      "execution_count": null,
      "outputs": [
        {
          "output_type": "stream",
          "text": [
            "enter a number48\n",
            "288\n",
            "8.0\n"
          ],
          "name": "stdout"
        }
      ]
    },
    {
      "cell_type": "code",
      "metadata": {
        "colab": {
          "base_uri": "https://localhost:8080/"
        },
        "id": "N5PAw52qshbj",
        "outputId": "abc02563-8147-488c-e484-4e7b647baa33"
      },
      "source": [
        "firstnumber=int(input(\"enter a number\"))\n",
        "#secondnumber=int(input\"enter a number\")\n",
        "print(firstnumber+6)\n",
        "print(firstnumber-6)\n"
      ],
      "execution_count": null,
      "outputs": [
        {
          "output_type": "stream",
          "text": [
            "enter a number15\n",
            "21\n",
            "9\n"
          ],
          "name": "stdout"
        }
      ]
    }
  ]
}